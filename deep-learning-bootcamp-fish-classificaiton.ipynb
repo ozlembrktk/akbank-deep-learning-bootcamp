{
 "cells": [
  {
   "cell_type": "code",
   "execution_count": 1,
   "id": "343d5c76",
   "metadata": {
    "execution": {
     "iopub.execute_input": "2024-10-24T14:55:55.891837Z",
     "iopub.status.busy": "2024-10-24T14:55:55.891485Z",
     "iopub.status.idle": "2024-10-24T14:56:12.753093Z",
     "shell.execute_reply": "2024-10-24T14:56:12.752339Z"
    },
    "papermill": {
     "duration": 16.872067,
     "end_time": "2024-10-24T14:56:12.755545",
     "exception": false,
     "start_time": "2024-10-24T14:55:55.883478",
     "status": "completed"
    },
    "tags": []
   },
   "outputs": [],
   "source": [
    "import pandas as pd\n",
    "import tensorflow as tf\n",
    "import os\n",
    "import numpy as np\n",
    "import cv2\n",
    "from tensorflow import keras\n",
    "from tensorflow.keras import layers\n",
    "from sklearn.model_selection import train_test_split\n",
    "from tensorflow.keras.preprocessing.image import ImageDataGenerator\n",
    "from tensorflow.keras.models import Sequential\n",
    "from tensorflow.keras import layers, models\n",
    "from tensorflow.keras.layers import Dense, Conv2D, MaxPooling2D, Flatten, Dropout\n",
    "from tensorflow.keras.callbacks import EarlyStopping\n",
    "import matplotlib.pyplot as plt\n",
    "from sklearn.metrics import confusion_matrix\n",
    "import seaborn as sns"
   ]
  },
  {
   "cell_type": "markdown",
   "id": "c102617a",
   "metadata": {
    "papermill": {
     "duration": 0.005904,
     "end_time": "2024-10-24T14:56:12.768069",
     "exception": false,
     "start_time": "2024-10-24T14:56:12.762165",
     "status": "completed"
    },
    "tags": []
   },
   "source": [
    "# Important Note\n",
    "This code only works without data augmentation.**Do not run** preprocessing parts 1 and 2, only run the\"**Preprocessing and Creating Data Generators Without Augmentation**\" If i do data augmentation it gives an error while fitting the model. If anyone can help me fix it i would appreciate it. Thanks!"
   ]
  },
  {
   "cell_type": "markdown",
   "id": "fddcf0fa",
   "metadata": {
    "papermill": {
     "duration": 0.00576,
     "end_time": "2024-10-24T14:56:12.779508",
     "exception": false,
     "start_time": "2024-10-24T14:56:12.773748",
     "status": "completed"
    },
    "tags": []
   },
   "source": [
    "# Import the Dataset"
   ]
  },
  {
   "cell_type": "markdown",
   "id": "7d06c139",
   "metadata": {
    "papermill": {
     "duration": 0.005533,
     "end_time": "2024-10-24T14:56:12.792002",
     "exception": false,
     "start_time": "2024-10-24T14:56:12.786469",
     "status": "completed"
    },
    "tags": []
   },
   "source": [
    "This code is collecting the paths of all .png files and labeling each image based on its directory name (excluding those in directories named 'GT' ground truth images).\n",
    "Notes: [-1] in Python refers to the last element."
   ]
  },
  {
   "cell_type": "code",
   "execution_count": 2,
   "id": "13469ccb",
   "metadata": {
    "execution": {
     "iopub.execute_input": "2024-10-24T14:56:12.805406Z",
     "iopub.status.busy": "2024-10-24T14:56:12.804854Z",
     "iopub.status.idle": "2024-10-24T14:56:14.935683Z",
     "shell.execute_reply": "2024-10-24T14:56:14.934411Z"
    },
    "papermill": {
     "duration": 2.140937,
     "end_time": "2024-10-24T14:56:14.938763",
     "exception": false,
     "start_time": "2024-10-24T14:56:12.797826",
     "status": "completed"
    },
    "tags": []
   },
   "outputs": [
    {
     "name": "stdout",
     "output_type": "stream",
     "text": [
      "<class 'pandas.core.frame.DataFrame'>\n",
      "RangeIndex: 9000 entries, 0 to 8999\n",
      "Data columns (total 2 columns):\n",
      " #   Column  Non-Null Count  Dtype \n",
      "---  ------  --------------  ----- \n",
      " 0   path    9000 non-null   object\n",
      " 1   label   9000 non-null   object\n",
      "dtypes: object(2)\n",
      "memory usage: 140.8+ KB\n"
     ]
    }
   ],
   "source": [
    "label = []\n",
    "path = []\n",
    "fish_dir = '/kaggle/input/a-large-scale-fish-dataset/Fish_Dataset/Fish_Dataset'\n",
    "for dir_name, _, filenames in os.walk(fish_dir):\n",
    "    for filename in filenames:\n",
    "        if os.path.splitext(filename)[-1] == '.png':\n",
    "            if dir_name.split()[-1] != 'GT':\n",
    "                label.append(os.path.split(dir_name)[-1])\n",
    "                path.append(os.path.join(dir_name, filename))\n",
    "\n",
    "data = pd.DataFrame(columns=['path','label'])\n",
    "data['path'] = path\n",
    "data['label'] = label\n",
    "data.info()"
   ]
  },
  {
   "cell_type": "markdown",
   "id": "75c6e04b",
   "metadata": {
    "papermill": {
     "duration": 0.006874,
     "end_time": "2024-10-24T14:56:14.960180",
     "exception": false,
     "start_time": "2024-10-24T14:56:14.953306",
     "status": "completed"
    },
    "tags": []
   },
   "source": [
    "# Preprocess the data"
   ]
  },
  {
   "cell_type": "markdown",
   "id": "b99d3aae",
   "metadata": {
    "papermill": {
     "duration": 0.005556,
     "end_time": "2024-10-24T14:56:14.972496",
     "exception": false,
     "start_time": "2024-10-24T14:56:14.966940",
     "status": "completed"
    },
    "tags": []
   },
   "source": [
    "Split the data into training, validation, and test sets. First, split the data into training and temporary sets (validation + test), and then split the temporary set into validation and test sets.\n",
    "\n",
    "The stratify argument ensures that the split will preserve the class distribution in each set.  In other words, if a certain seafood class makes up 20% of the entire dataset, it will also make up around 20% of the training, validation, and test sets."
   ]
  },
  {
   "cell_type": "code",
   "execution_count": 3,
   "id": "7f9de6b9",
   "metadata": {
    "execution": {
     "iopub.execute_input": "2024-10-24T14:56:14.986531Z",
     "iopub.status.busy": "2024-10-24T14:56:14.986131Z",
     "iopub.status.idle": "2024-10-24T14:56:15.015045Z",
     "shell.execute_reply": "2024-10-24T14:56:15.014031Z"
    },
    "papermill": {
     "duration": 0.038175,
     "end_time": "2024-10-24T14:56:15.017018",
     "exception": false,
     "start_time": "2024-10-24T14:56:14.978843",
     "status": "completed"
    },
    "tags": []
   },
   "outputs": [
    {
     "name": "stdout",
     "output_type": "stream",
     "text": [
      "Training set size: 7200\n",
      "Validation set size: 900\n",
      "Test set size: 900\n"
     ]
    }
   ],
   "source": [
    "from sklearn.model_selection import train_test_split\n",
    "\n",
    "# First, split the data into 80% training and 20% temporary (validation + test)\n",
    "train_data, temp_data = train_test_split(data, test_size=0.2, stratify=data['label'], random_state=42)\n",
    "\n",
    "# Then, split the temporary set into 50% validation and 50% test (resulting in 10% each for validation and test)\n",
    "val_data, test_data = train_test_split(temp_data, test_size=0.5, stratify=temp_data['label'], random_state=42)\n",
    "print(f\"Training set size: {len(train_data)}\")\n",
    "print(f\"Validation set size: {len(val_data)}\")\n",
    "print(f\"Test set size: {len(test_data)}\")\n"
   ]
  },
  {
   "cell_type": "markdown",
   "id": "c5776083",
   "metadata": {
    "papermill": {
     "duration": 0.006036,
     "end_time": "2024-10-24T14:56:15.029305",
     "exception": false,
     "start_time": "2024-10-24T14:56:15.023269",
     "status": "completed"
    },
    "tags": []
   },
   "source": [
    "# ImageDataGenerator\n",
    "We can use  ImageDataGenerator from Keras to handle resizing, normalization, and augmentation.The ImageDataGenerator in Keras is a powerful class that provides real-time data augmentation and preprocessing for image datasets. It allows you to efficiently load, preprocess, and augment image data during training, saving memory and improving model generalization.\n",
    "\n",
    "The ImageDataGenerator works by batching images and labels for each iteration. It loads a batch of images, applies the specified transformations (augmentation), and normalizes them before feeding them to the model. This process is repeated for each epoch until all images have been processed.\n",
    "\n",
    "When you call model.fit() with a generator (e.g., train_generator), the generator continuously yields batches of images and labels. Each batch will be augmented (if augmentation is enabled) and normalized before being passed to the model for training.\n",
    "\n",
    "Here are some of the commonly used arguments:\n",
    "\n",
    "**rescale:** Rescales pixel values (e.g., rescale=1.0/255 scales values from 0-255 to 0-1).\n",
    "\n",
    "**rotation_range:** Randomly rotates images by a specified angle (in degrees).\n",
    "\n",
    "**width_shift_range:** Randomly shifts the image horizontally.\n",
    "\n",
    "**height_shift_range:** Randomly shifts the image vertically.\n",
    "\n",
    "**shear_range:** Apply a shear transformation (shearing the image).\n",
    "\n",
    "**zoom_range:** Randomly zooms into the image.\n",
    "\n",
    "**horizontal_flip:** Randomly flip images horizontally.\n",
    "\n",
    "**vertical_flip:** Randomly flip images vertically.\n",
    "\n",
    "**fill_mode:** Specifies how to fill the missing pixels when applying transformations (like nearest, reflect, etc.)."
   ]
  },
  {
   "cell_type": "markdown",
   "id": "49a2df30",
   "metadata": {
    "papermill": {
     "duration": 0.006056,
     "end_time": "2024-10-24T14:56:15.041561",
     "exception": false,
     "start_time": "2024-10-24T14:56:15.035505",
     "status": "completed"
    },
    "tags": []
   },
   "source": [
    "# Resizing\n",
    "We need to ensure that all images are the same size, as neural networks require fixed input dimensions. We will resize it to 590 x 445 as stated in the dataset.\n",
    "\n",
    "**target_size** argument tells the ImageDataGenerator to resize all images to axb pixels before feeding them into the model."
   ]
  },
  {
   "cell_type": "markdown",
   "id": "fc723036",
   "metadata": {
    "papermill": {
     "duration": 0.005754,
     "end_time": "2024-10-24T14:56:15.053625",
     "exception": false,
     "start_time": "2024-10-24T14:56:15.047871",
     "status": "completed"
    },
    "tags": []
   },
   "source": [
    "# Normalization\n",
    "**rescale=1.0/255** argument from ImageDataGenerator is used for this purpose.\n",
    "\n",
    "We need to normalize pixel values to a standard range between 0 and 1. This is done by dividing pixel values by 255 (since RGB pixel values range from 0 to 255). \n",
    "\n",
    "Normalization is crucial in neural networks because it scales input data, such as image pixel values, from their original range (0-255) to a smaller range, typically between 0 and 1.  By normalizing, we scale these values down to a range between 0 and 1. This gives the neural network consistent, small input values, which are easier for it to process. \n",
    "\n",
    "Also, When input values are large (like 255), the neural network has to work harder to find the optimal weights during training. Normalizing the data helps the optimization algorithm (like gradient descent) converge faster and more smoothly.\n"
   ]
  },
  {
   "cell_type": "markdown",
   "id": "7367ac13",
   "metadata": {
    "papermill": {
     "duration": 0.006017,
     "end_time": "2024-10-24T14:56:15.065859",
     "exception": false,
     "start_time": "2024-10-24T14:56:15.059842",
     "status": "completed"
    },
    "tags": []
   },
   "source": [
    "# 1.Define Image Preprocessing and Augmentation\n",
    "We created two instances of the ImageDataGenerator class called test_val_datagen and train_datagen"
   ]
  },
  {
   "cell_type": "code",
   "execution_count": 4,
   "id": "b2393211",
   "metadata": {
    "_kg_hide-input": false,
    "execution": {
     "iopub.execute_input": "2024-10-24T14:56:15.079371Z",
     "iopub.status.busy": "2024-10-24T14:56:15.079029Z",
     "iopub.status.idle": "2024-10-24T14:56:15.084270Z",
     "shell.execute_reply": "2024-10-24T14:56:15.083432Z"
    },
    "papermill": {
     "duration": 0.014486,
     "end_time": "2024-10-24T14:56:15.086414",
     "exception": false,
     "start_time": "2024-10-24T14:56:15.071928",
     "status": "completed"
    },
    "tags": []
   },
   "outputs": [],
   "source": [
    "# For the training set, with data augmentation\n",
    "train_datagen = ImageDataGenerator(\n",
    "    rescale=1.0/255,   # Normalize pixel values to 0-1 range\n",
    "    rotation_range=20,  # Randomly rotate images\n",
    "    width_shift_range=0.2,  # Shift images horizontally\n",
    "    height_shift_range=0.2, # Shift images vertically\n",
    "    shear_range=0.2,        # Shear transformation\n",
    "    zoom_range=0.2,         # Random zoom\n",
    "    horizontal_flip=True,    # Flip horizontally\n",
    "    fill_mode='nearest'      # Fill missing pixels after transformations\n",
    ")\n",
    "\n",
    "# For validation and test sets, no augmentation but only rescaling\n",
    "test_val_datagen = ImageDataGenerator(rescale=1.0/255)"
   ]
  },
  {
   "cell_type": "markdown",
   "id": "db8ac1fd",
   "metadata": {
    "papermill": {
     "duration": 0.006037,
     "end_time": "2024-10-24T14:56:15.098470",
     "exception": false,
     "start_time": "2024-10-24T14:56:15.092433",
     "status": "completed"
    },
    "tags": []
   },
   "source": [
    "# 2.Create Data Generators\n",
    "`flow_from_directory` and `flow_from_dataframe` are methods in the `ImageDataGenerator` class used to load and preprocess image data in batches for training a model. **`flow_from_directory`** loads images from a directory structure where each subdirectory corresponds to a class, automatically assigning labels based on the folder names. It is ideal when you have images organized in folders. **`flow_from_dataframe`** is used when you have a DataFrame that contains image file paths and corresponding labels, offering more flexibility if the images are not organized in directories or if additional metadata is required. Both methods handle batching, resizing, and optional data augmentation during training.\n",
    "\n",
    "Key Arguments in `flow_from_directory` and `flow_from_dataframe`:\n",
    "\n",
    "**target_size:** Resize all images to this size (e.g., (224, 224)).\n",
    "\n",
    "**batch_size:** Number of images to process at a time (e.g., 32).\n",
    "\n",
    "**class_mode:** Specifies how to encode the labels:\n",
    "* 'categorical' for multi-class classification (output will be one-hot encoded).\n",
    "* 'binary' for binary classification.\n",
    "* 'sparse' for integer-encoded labels.\n",
    "* None for unsupervised tasks.\n",
    "\n",
    "**shuffle:** Whether to shuffle the data (recommended for training, but not for testing)."
   ]
  },
  {
   "cell_type": "code",
   "execution_count": 5,
   "id": "81a223ae",
   "metadata": {
    "execution": {
     "iopub.execute_input": "2024-10-24T14:56:15.111920Z",
     "iopub.status.busy": "2024-10-24T14:56:15.111637Z",
     "iopub.status.idle": "2024-10-24T14:56:15.252269Z",
     "shell.execute_reply": "2024-10-24T14:56:15.251556Z"
    },
    "papermill": {
     "duration": 0.149647,
     "end_time": "2024-10-24T14:56:15.254226",
     "exception": false,
     "start_time": "2024-10-24T14:56:15.104579",
     "status": "completed"
    },
    "tags": []
   },
   "outputs": [
    {
     "name": "stdout",
     "output_type": "stream",
     "text": [
      "Found 7200 validated image filenames belonging to 9 classes.\n",
      "Found 900 validated image filenames belonging to 9 classes.\n",
      "Found 900 validated image filenames belonging to 9 classes.\n"
     ]
    }
   ],
   "source": [
    "# Flow from directory with the corresponding labels\n",
    "train_generator = train_datagen.flow_from_dataframe(\n",
    "    train_data,\n",
    "    x_col='path',         # The column in the DataFrame with image paths\n",
    "    y_col='label',        # The column in the DataFrame with labels\n",
    "    target_size=(590, 445),  # Resize images \n",
    "    batch_size=32,        # Number of images to process at a time\n",
    "    class_mode='categorical'  # For multi-class classification\n",
    ")\n",
    "\n",
    "validation_generator = test_val_datagen.flow_from_dataframe(\n",
    "    val_data,\n",
    "    x_col='path',\n",
    "    y_col='label',\n",
    "    target_size=(590, 445),\n",
    "    batch_size=32,\n",
    "    class_mode='categorical'\n",
    ")\n",
    "\n",
    "test_generator = test_val_datagen.flow_from_dataframe(\n",
    "    test_data,\n",
    "    x_col='path',\n",
    "    y_col='label',\n",
    "    target_size=(590, 445),\n",
    "    batch_size=32,\n",
    "    class_mode='categorical',\n",
    "    shuffle=False  # Do not shuffle the test data\n",
    ")\n"
   ]
  },
  {
   "cell_type": "markdown",
   "id": "7771c232",
   "metadata": {
    "papermill": {
     "duration": 0.006377,
     "end_time": "2024-10-24T14:56:15.267355",
     "exception": false,
     "start_time": "2024-10-24T14:56:15.260978",
     "status": "completed"
    },
    "tags": []
   },
   "source": [
    "# Preprocessing and Creating Data Generators Without Augmentation\n",
    "We created an instance of the ImageDataGenerator class called datagen."
   ]
  },
  {
   "cell_type": "code",
   "execution_count": 6,
   "id": "64f962c3",
   "metadata": {
    "execution": {
     "iopub.execute_input": "2024-10-24T14:56:15.281090Z",
     "iopub.status.busy": "2024-10-24T14:56:15.280812Z",
     "iopub.status.idle": "2024-10-24T14:56:15.415179Z",
     "shell.execute_reply": "2024-10-24T14:56:15.414272Z"
    },
    "papermill": {
     "duration": 0.143561,
     "end_time": "2024-10-24T14:56:15.417169",
     "exception": false,
     "start_time": "2024-10-24T14:56:15.273608",
     "status": "completed"
    },
    "tags": []
   },
   "outputs": [
    {
     "name": "stdout",
     "output_type": "stream",
     "text": [
      "Found 7200 validated image filenames belonging to 9 classes.\n",
      "Found 900 validated image filenames belonging to 9 classes.\n",
      "Found 900 validated image filenames belonging to 9 classes.\n"
     ]
    }
   ],
   "source": [
    "# For training, validation, and test sets (without augmentation, only resizing and normalization)\n",
    "datagen = ImageDataGenerator(\n",
    "    rescale=1.0/255   # Normalize pixel values to the range [0, 1]\n",
    ")\n",
    "# Training set (no augmentation, only resizing and normalization)\n",
    "train_generator = datagen.flow_from_dataframe(\n",
    "    train_data,\n",
    "    x_col='path',         # The column in the DataFrame with image paths\n",
    "    y_col='label',        # The column in the DataFrame with labels\n",
    "    target_size=(590, 445),  # Resize images \n",
    "    batch_size=32,        # Number of images to process at a time\n",
    "    class_mode='categorical'  # For multi-class classification\n",
    ")\n",
    "\n",
    "# Validation set (no augmentation, only resizing and normalization)\n",
    "validation_generator = datagen.flow_from_dataframe(\n",
    "    val_data,\n",
    "    x_col='path',\n",
    "    y_col='label',\n",
    "    target_size=(590, 445),\n",
    "    batch_size=32,\n",
    "    class_mode='categorical'\n",
    ")\n",
    "\n",
    "# Test set (no augmentation, only resizing and normalization)\n",
    "test_generator = datagen.flow_from_dataframe(\n",
    "    test_data,\n",
    "    x_col='path',\n",
    "    y_col='label',\n",
    "    target_size=(590, 445),\n",
    "    batch_size=32,\n",
    "    class_mode='categorical',\n",
    "    shuffle=False  # Do not shuffle the test data\n",
    ")"
   ]
  },
  {
   "cell_type": "markdown",
   "id": "7a3d9ada",
   "metadata": {
    "papermill": {
     "duration": 0.006594,
     "end_time": "2024-10-24T14:56:15.430359",
     "exception": false,
     "start_time": "2024-10-24T14:56:15.423765",
     "status": "completed"
    },
    "tags": []
   },
   "source": [
    "# Building The Model\n",
    "Conv2D (32, (3, 3), activation='relu'): The first convolutional layer with 32 filters, a kernel size of 3x3, and the ReLU activation function.\n",
    "\n",
    "MaxPooling2D (2, 2): Reduces the spatial dimensions of the image, retaining the most important features.\n",
    "\n",
    "Flatten: Converts the 2D feature maps from the last convolutional layer into 1D so they can be processed by the fully connected layers.\n",
    "\n",
    "Dense(64, activation='relu'): Fully connected layer with 64 units and ReLU activation.\n",
    "\n",
    "Dense(9, activation='softmax'): Output layer with 9 units (for the 9 classes) and the softmax activation function for multi-class classification.\n",
    "\n",
    "Loss Function: sparse_categorical_crossentropy is used since the labels are integers (not one-hot encoded).\n",
    "\n",
    "Optimizer: Adam optimizer is commonly used and performs well across many types of models."
   ]
  },
  {
   "cell_type": "code",
   "execution_count": 7,
   "id": "cbded19d",
   "metadata": {
    "execution": {
     "iopub.execute_input": "2024-10-24T14:56:15.444874Z",
     "iopub.status.busy": "2024-10-24T14:56:15.444552Z",
     "iopub.status.idle": "2024-10-24T14:56:16.452359Z",
     "shell.execute_reply": "2024-10-24T14:56:16.451464Z"
    },
    "papermill": {
     "duration": 1.017186,
     "end_time": "2024-10-24T14:56:16.454322",
     "exception": false,
     "start_time": "2024-10-24T14:56:15.437136",
     "status": "completed"
    },
    "tags": []
   },
   "outputs": [
    {
     "data": {
      "text/html": [
       "<pre style=\"white-space:pre;overflow-x:auto;line-height:normal;font-family:Menlo,'DejaVu Sans Mono',consolas,'Courier New',monospace\"><span style=\"font-weight: bold\">Model: \"sequential\"</span>\n",
       "</pre>\n"
      ],
      "text/plain": [
       "\u001b[1mModel: \"sequential\"\u001b[0m\n"
      ]
     },
     "metadata": {},
     "output_type": "display_data"
    },
    {
     "data": {
      "text/html": [
       "<pre style=\"white-space:pre;overflow-x:auto;line-height:normal;font-family:Menlo,'DejaVu Sans Mono',consolas,'Courier New',monospace\">┏━━━━━━━━━━━━━━━━━━━━━━━━━━━━━━━━━┳━━━━━━━━━━━━━━━━━━━━━━━━┳━━━━━━━━━━━━━━━┓\n",
       "┃<span style=\"font-weight: bold\"> Layer (type)                    </span>┃<span style=\"font-weight: bold\"> Output Shape           </span>┃<span style=\"font-weight: bold\">       Param # </span>┃\n",
       "┡━━━━━━━━━━━━━━━━━━━━━━━━━━━━━━━━━╇━━━━━━━━━━━━━━━━━━━━━━━━╇━━━━━━━━━━━━━━━┩\n",
       "│ conv2d (<span style=\"color: #0087ff; text-decoration-color: #0087ff\">Conv2D</span>)                 │ (<span style=\"color: #00d7ff; text-decoration-color: #00d7ff\">None</span>, <span style=\"color: #00af00; text-decoration-color: #00af00\">588</span>, <span style=\"color: #00af00; text-decoration-color: #00af00\">443</span>, <span style=\"color: #00af00; text-decoration-color: #00af00\">32</span>)   │           <span style=\"color: #00af00; text-decoration-color: #00af00\">896</span> │\n",
       "├─────────────────────────────────┼────────────────────────┼───────────────┤\n",
       "│ max_pooling2d (<span style=\"color: #0087ff; text-decoration-color: #0087ff\">MaxPooling2D</span>)    │ (<span style=\"color: #00d7ff; text-decoration-color: #00d7ff\">None</span>, <span style=\"color: #00af00; text-decoration-color: #00af00\">294</span>, <span style=\"color: #00af00; text-decoration-color: #00af00\">221</span>, <span style=\"color: #00af00; text-decoration-color: #00af00\">32</span>)   │             <span style=\"color: #00af00; text-decoration-color: #00af00\">0</span> │\n",
       "├─────────────────────────────────┼────────────────────────┼───────────────┤\n",
       "│ conv2d_1 (<span style=\"color: #0087ff; text-decoration-color: #0087ff\">Conv2D</span>)               │ (<span style=\"color: #00d7ff; text-decoration-color: #00d7ff\">None</span>, <span style=\"color: #00af00; text-decoration-color: #00af00\">292</span>, <span style=\"color: #00af00; text-decoration-color: #00af00\">219</span>, <span style=\"color: #00af00; text-decoration-color: #00af00\">64</span>)   │        <span style=\"color: #00af00; text-decoration-color: #00af00\">18,496</span> │\n",
       "├─────────────────────────────────┼────────────────────────┼───────────────┤\n",
       "│ max_pooling2d_1 (<span style=\"color: #0087ff; text-decoration-color: #0087ff\">MaxPooling2D</span>)  │ (<span style=\"color: #00d7ff; text-decoration-color: #00d7ff\">None</span>, <span style=\"color: #00af00; text-decoration-color: #00af00\">146</span>, <span style=\"color: #00af00; text-decoration-color: #00af00\">109</span>, <span style=\"color: #00af00; text-decoration-color: #00af00\">64</span>)   │             <span style=\"color: #00af00; text-decoration-color: #00af00\">0</span> │\n",
       "├─────────────────────────────────┼────────────────────────┼───────────────┤\n",
       "│ conv2d_2 (<span style=\"color: #0087ff; text-decoration-color: #0087ff\">Conv2D</span>)               │ (<span style=\"color: #00d7ff; text-decoration-color: #00d7ff\">None</span>, <span style=\"color: #00af00; text-decoration-color: #00af00\">144</span>, <span style=\"color: #00af00; text-decoration-color: #00af00\">107</span>, <span style=\"color: #00af00; text-decoration-color: #00af00\">64</span>)   │        <span style=\"color: #00af00; text-decoration-color: #00af00\">36,928</span> │\n",
       "├─────────────────────────────────┼────────────────────────┼───────────────┤\n",
       "│ flatten (<span style=\"color: #0087ff; text-decoration-color: #0087ff\">Flatten</span>)               │ (<span style=\"color: #00d7ff; text-decoration-color: #00d7ff\">None</span>, <span style=\"color: #00af00; text-decoration-color: #00af00\">986112</span>)         │             <span style=\"color: #00af00; text-decoration-color: #00af00\">0</span> │\n",
       "├─────────────────────────────────┼────────────────────────┼───────────────┤\n",
       "│ dense (<span style=\"color: #0087ff; text-decoration-color: #0087ff\">Dense</span>)                   │ (<span style=\"color: #00d7ff; text-decoration-color: #00d7ff\">None</span>, <span style=\"color: #00af00; text-decoration-color: #00af00\">64</span>)             │    <span style=\"color: #00af00; text-decoration-color: #00af00\">63,111,232</span> │\n",
       "├─────────────────────────────────┼────────────────────────┼───────────────┤\n",
       "│ dense_1 (<span style=\"color: #0087ff; text-decoration-color: #0087ff\">Dense</span>)                 │ (<span style=\"color: #00d7ff; text-decoration-color: #00d7ff\">None</span>, <span style=\"color: #00af00; text-decoration-color: #00af00\">9</span>)              │           <span style=\"color: #00af00; text-decoration-color: #00af00\">585</span> │\n",
       "└─────────────────────────────────┴────────────────────────┴───────────────┘\n",
       "</pre>\n"
      ],
      "text/plain": [
       "┏━━━━━━━━━━━━━━━━━━━━━━━━━━━━━━━━━┳━━━━━━━━━━━━━━━━━━━━━━━━┳━━━━━━━━━━━━━━━┓\n",
       "┃\u001b[1m \u001b[0m\u001b[1mLayer (type)                   \u001b[0m\u001b[1m \u001b[0m┃\u001b[1m \u001b[0m\u001b[1mOutput Shape          \u001b[0m\u001b[1m \u001b[0m┃\u001b[1m \u001b[0m\u001b[1m      Param #\u001b[0m\u001b[1m \u001b[0m┃\n",
       "┡━━━━━━━━━━━━━━━━━━━━━━━━━━━━━━━━━╇━━━━━━━━━━━━━━━━━━━━━━━━╇━━━━━━━━━━━━━━━┩\n",
       "│ conv2d (\u001b[38;5;33mConv2D\u001b[0m)                 │ (\u001b[38;5;45mNone\u001b[0m, \u001b[38;5;34m588\u001b[0m, \u001b[38;5;34m443\u001b[0m, \u001b[38;5;34m32\u001b[0m)   │           \u001b[38;5;34m896\u001b[0m │\n",
       "├─────────────────────────────────┼────────────────────────┼───────────────┤\n",
       "│ max_pooling2d (\u001b[38;5;33mMaxPooling2D\u001b[0m)    │ (\u001b[38;5;45mNone\u001b[0m, \u001b[38;5;34m294\u001b[0m, \u001b[38;5;34m221\u001b[0m, \u001b[38;5;34m32\u001b[0m)   │             \u001b[38;5;34m0\u001b[0m │\n",
       "├─────────────────────────────────┼────────────────────────┼───────────────┤\n",
       "│ conv2d_1 (\u001b[38;5;33mConv2D\u001b[0m)               │ (\u001b[38;5;45mNone\u001b[0m, \u001b[38;5;34m292\u001b[0m, \u001b[38;5;34m219\u001b[0m, \u001b[38;5;34m64\u001b[0m)   │        \u001b[38;5;34m18,496\u001b[0m │\n",
       "├─────────────────────────────────┼────────────────────────┼───────────────┤\n",
       "│ max_pooling2d_1 (\u001b[38;5;33mMaxPooling2D\u001b[0m)  │ (\u001b[38;5;45mNone\u001b[0m, \u001b[38;5;34m146\u001b[0m, \u001b[38;5;34m109\u001b[0m, \u001b[38;5;34m64\u001b[0m)   │             \u001b[38;5;34m0\u001b[0m │\n",
       "├─────────────────────────────────┼────────────────────────┼───────────────┤\n",
       "│ conv2d_2 (\u001b[38;5;33mConv2D\u001b[0m)               │ (\u001b[38;5;45mNone\u001b[0m, \u001b[38;5;34m144\u001b[0m, \u001b[38;5;34m107\u001b[0m, \u001b[38;5;34m64\u001b[0m)   │        \u001b[38;5;34m36,928\u001b[0m │\n",
       "├─────────────────────────────────┼────────────────────────┼───────────────┤\n",
       "│ flatten (\u001b[38;5;33mFlatten\u001b[0m)               │ (\u001b[38;5;45mNone\u001b[0m, \u001b[38;5;34m986112\u001b[0m)         │             \u001b[38;5;34m0\u001b[0m │\n",
       "├─────────────────────────────────┼────────────────────────┼───────────────┤\n",
       "│ dense (\u001b[38;5;33mDense\u001b[0m)                   │ (\u001b[38;5;45mNone\u001b[0m, \u001b[38;5;34m64\u001b[0m)             │    \u001b[38;5;34m63,111,232\u001b[0m │\n",
       "├─────────────────────────────────┼────────────────────────┼───────────────┤\n",
       "│ dense_1 (\u001b[38;5;33mDense\u001b[0m)                 │ (\u001b[38;5;45mNone\u001b[0m, \u001b[38;5;34m9\u001b[0m)              │           \u001b[38;5;34m585\u001b[0m │\n",
       "└─────────────────────────────────┴────────────────────────┴───────────────┘\n"
      ]
     },
     "metadata": {},
     "output_type": "display_data"
    },
    {
     "data": {
      "text/html": [
       "<pre style=\"white-space:pre;overflow-x:auto;line-height:normal;font-family:Menlo,'DejaVu Sans Mono',consolas,'Courier New',monospace\"><span style=\"font-weight: bold\"> Total params: </span><span style=\"color: #00af00; text-decoration-color: #00af00\">63,168,137</span> (240.97 MB)\n",
       "</pre>\n"
      ],
      "text/plain": [
       "\u001b[1m Total params: \u001b[0m\u001b[38;5;34m63,168,137\u001b[0m (240.97 MB)\n"
      ]
     },
     "metadata": {},
     "output_type": "display_data"
    },
    {
     "data": {
      "text/html": [
       "<pre style=\"white-space:pre;overflow-x:auto;line-height:normal;font-family:Menlo,'DejaVu Sans Mono',consolas,'Courier New',monospace\"><span style=\"font-weight: bold\"> Trainable params: </span><span style=\"color: #00af00; text-decoration-color: #00af00\">63,168,137</span> (240.97 MB)\n",
       "</pre>\n"
      ],
      "text/plain": [
       "\u001b[1m Trainable params: \u001b[0m\u001b[38;5;34m63,168,137\u001b[0m (240.97 MB)\n"
      ]
     },
     "metadata": {},
     "output_type": "display_data"
    },
    {
     "data": {
      "text/html": [
       "<pre style=\"white-space:pre;overflow-x:auto;line-height:normal;font-family:Menlo,'DejaVu Sans Mono',consolas,'Courier New',monospace\"><span style=\"font-weight: bold\"> Non-trainable params: </span><span style=\"color: #00af00; text-decoration-color: #00af00\">0</span> (0.00 B)\n",
       "</pre>\n"
      ],
      "text/plain": [
       "\u001b[1m Non-trainable params: \u001b[0m\u001b[38;5;34m0\u001b[0m (0.00 B)\n"
      ]
     },
     "metadata": {},
     "output_type": "display_data"
    }
   ],
   "source": [
    "from tensorflow.keras import layers, models, Input\n",
    "\n",
    "# Define the model using Input() layer for the first layer\n",
    "model = models.Sequential()\n",
    "\n",
    "# Input layer to define input shape\n",
    "model.add(Input(shape=(590, 445, 3)))\n",
    "\n",
    "# First Convolutional Layer\n",
    "model.add(layers.Conv2D(32, (3, 3), activation='relu'))\n",
    "model.add(layers.MaxPooling2D((2, 2)))\n",
    "\n",
    "# Second Convolutional Layer\n",
    "model.add(layers.Conv2D(64, (3, 3), activation='relu'))\n",
    "model.add(layers.MaxPooling2D((2, 2)))\n",
    "\n",
    "# Third Convolutional Layer\n",
    "model.add(layers.Conv2D(64, (3, 3), activation='relu'))\n",
    "\n",
    "# Flatten the 3D feature maps to 1D\n",
    "model.add(layers.Flatten())\n",
    "\n",
    "# Fully Connected (Dense) Layer\n",
    "model.add(layers.Dense(64, activation='relu'))\n",
    "\n",
    "# Output layer for classification (assuming 9 classes)\n",
    "model.add(layers.Dense(9, activation='softmax'))\n",
    "\n",
    "# Compile the model\n",
    "model.compile(optimizer='adam',\n",
    "              loss='categorical_crossentropy',  \n",
    "              metrics=['accuracy'])\n",
    "model.summary()"
   ]
  },
  {
   "cell_type": "code",
   "execution_count": 8,
   "id": "8703906b",
   "metadata": {
    "execution": {
     "iopub.execute_input": "2024-10-24T14:56:16.471224Z",
     "iopub.status.busy": "2024-10-24T14:56:16.470715Z",
     "iopub.status.idle": "2024-10-24T15:38:40.418478Z",
     "shell.execute_reply": "2024-10-24T15:38:40.417612Z"
    },
    "papermill": {
     "duration": 2543.958879,
     "end_time": "2024-10-24T15:38:40.420980",
     "exception": false,
     "start_time": "2024-10-24T14:56:16.462101",
     "status": "completed"
    },
    "tags": []
   },
   "outputs": [
    {
     "name": "stdout",
     "output_type": "stream",
     "text": [
      "Epoch 1/30\n"
     ]
    },
    {
     "name": "stderr",
     "output_type": "stream",
     "text": [
      "/opt/conda/lib/python3.10/site-packages/keras/src/trainers/data_adapters/py_dataset_adapter.py:121: UserWarning: Your `PyDataset` class should call `super().__init__(**kwargs)` in its constructor. `**kwargs` can include `workers`, `use_multiprocessing`, `max_queue_size`. Do not pass these arguments to `fit()`, as they will be ignored.\n",
      "  self._warn_if_super_not_called()\n",
      "WARNING: All log messages before absl::InitializeLog() is called are written to STDERR\n",
      "I0000 00:00:1729781785.326770      68 service.cc:145] XLA service 0x7d5310003430 initialized for platform CUDA (this does not guarantee that XLA will be used). Devices:\n",
      "I0000 00:00:1729781785.326826      68 service.cc:153]   StreamExecutor device (0): Tesla T4, Compute Capability 7.5\n",
      "I0000 00:00:1729781785.326830      68 service.cc:153]   StreamExecutor device (1): Tesla T4, Compute Capability 7.5\n",
      "I0000 00:00:1729781802.491611      68 device_compiler.h:188] Compiled cluster using XLA!  This line is logged at most once for the lifetime of the process.\n"
     ]
    },
    {
     "name": "stdout",
     "output_type": "stream",
     "text": [
      "225/225 - 210s - 934ms/step - accuracy: 0.6481 - loss: 1.6251 - val_accuracy: 0.8700 - val_loss: 0.4183\n",
      "Epoch 2/30\n",
      "225/225 - 137s - 609ms/step - accuracy: 0.9633 - loss: 0.1098 - val_accuracy: 0.9578 - val_loss: 0.1243\n",
      "Epoch 3/30\n",
      "225/225 - 141s - 625ms/step - accuracy: 0.9839 - loss: 0.0530 - val_accuracy: 0.9778 - val_loss: 0.0981\n",
      "Epoch 4/30\n",
      "225/225 - 138s - 611ms/step - accuracy: 0.9983 - loss: 0.0067 - val_accuracy: 0.9800 - val_loss: 0.0866\n",
      "Epoch 5/30\n",
      "225/225 - 139s - 618ms/step - accuracy: 0.9978 - loss: 0.0085 - val_accuracy: 0.9722 - val_loss: 0.1103\n",
      "Epoch 6/30\n",
      "225/225 - 144s - 639ms/step - accuracy: 0.9914 - loss: 0.0386 - val_accuracy: 0.9500 - val_loss: 0.2083\n",
      "Epoch 7/30\n",
      "225/225 - 147s - 652ms/step - accuracy: 0.9943 - loss: 0.0182 - val_accuracy: 0.9789 - val_loss: 0.0732\n",
      "Epoch 8/30\n",
      "225/225 - 138s - 613ms/step - accuracy: 0.9997 - loss: 0.0019 - val_accuracy: 0.9844 - val_loss: 0.0672\n",
      "Epoch 9/30\n",
      "225/225 - 123s - 545ms/step - accuracy: 1.0000 - loss: 1.0322e-04 - val_accuracy: 0.9856 - val_loss: 0.0594\n",
      "Epoch 10/30\n",
      "225/225 - 122s - 541ms/step - accuracy: 1.0000 - loss: 3.7426e-05 - val_accuracy: 0.9856 - val_loss: 0.0597\n",
      "Epoch 11/30\n",
      "225/225 - 122s - 541ms/step - accuracy: 1.0000 - loss: 2.5402e-05 - val_accuracy: 0.9867 - val_loss: 0.0601\n",
      "Epoch 12/30\n",
      "225/225 - 122s - 541ms/step - accuracy: 1.0000 - loss: 1.8780e-05 - val_accuracy: 0.9867 - val_loss: 0.0607\n",
      "Epoch 13/30\n",
      "225/225 - 121s - 537ms/step - accuracy: 1.0000 - loss: 1.4681e-05 - val_accuracy: 0.9867 - val_loss: 0.0613\n",
      "Epoch 14/30\n",
      "225/225 - 122s - 541ms/step - accuracy: 1.0000 - loss: 1.1804e-05 - val_accuracy: 0.9867 - val_loss: 0.0619\n",
      "Epoch 15/30\n",
      "225/225 - 123s - 549ms/step - accuracy: 1.0000 - loss: 9.6906e-06 - val_accuracy: 0.9878 - val_loss: 0.0625\n",
      "Epoch 16/30\n",
      "225/225 - 122s - 544ms/step - accuracy: 1.0000 - loss: 8.0675e-06 - val_accuracy: 0.9878 - val_loss: 0.0631\n",
      "Epoch 17/30\n",
      "225/225 - 122s - 544ms/step - accuracy: 1.0000 - loss: 6.7932e-06 - val_accuracy: 0.9878 - val_loss: 0.0637\n",
      "Epoch 18/30\n",
      "225/225 - 125s - 557ms/step - accuracy: 1.0000 - loss: 5.7575e-06 - val_accuracy: 0.9878 - val_loss: 0.0642\n",
      "Epoch 19/30\n",
      "225/225 - 126s - 558ms/step - accuracy: 1.0000 - loss: 4.9086e-06 - val_accuracy: 0.9878 - val_loss: 0.0648\n"
     ]
    }
   ],
   "source": [
    "# Train the model\n",
    "early_stopping = keras.callbacks.EarlyStopping(patience=10,min_delta = 0.001, restore_best_weights=True)\n",
    "\n",
    "history = model.fit(\n",
    "    train_generator,\n",
    "    epochs=30,  # Set a high number of epochs\n",
    "    validation_data=validation_generator,\n",
    "    callbacks=[early_stopping],  # Include early stopping\n",
    "    verbose=2\n",
    ")\n"
   ]
  },
  {
   "cell_type": "markdown",
   "id": "2c327088",
   "metadata": {
    "papermill": {
     "duration": 0.010285,
     "end_time": "2024-10-24T15:38:40.442197",
     "exception": false,
     "start_time": "2024-10-24T15:38:40.431912",
     "status": "completed"
    },
    "tags": []
   },
   "source": [
    "# Evaluation of the Model\n",
    "Overfitting occurs when the validation loss starts to increase while the training loss continues to decrease, and similarly, when the training accuracy is much higher than the validation accuracy.\n",
    "\n",
    "From the graphs below, we see that the model did not overfit. To avoid overfitting, we used EarlyStopping to stop the training when the model stops improving on the validation set"
   ]
  },
  {
   "cell_type": "code",
   "execution_count": 9,
   "id": "e5769183",
   "metadata": {
    "execution": {
     "iopub.execute_input": "2024-10-24T15:38:40.464643Z",
     "iopub.status.busy": "2024-10-24T15:38:40.463992Z",
     "iopub.status.idle": "2024-10-24T15:39:01.593525Z",
     "shell.execute_reply": "2024-10-24T15:39:01.592632Z"
    },
    "papermill": {
     "duration": 21.143207,
     "end_time": "2024-10-24T15:39:01.595756",
     "exception": false,
     "start_time": "2024-10-24T15:38:40.452549",
     "status": "completed"
    },
    "tags": []
   },
   "outputs": [
    {
     "name": "stdout",
     "output_type": "stream",
     "text": [
      "\u001b[1m29/29\u001b[0m \u001b[32m━━━━━━━━━━━━━━━━━━━━\u001b[0m\u001b[37m\u001b[0m \u001b[1m19s\u001b[0m 666ms/step - accuracy: 0.9844 - loss: 0.0388\n",
      "Test Accuracy: 0.9866666793823242\n"
     ]
    },
    {
     "data": {
      "image/png": "[encoded data removed]",
      "text/plain": [
       "<Figure size 640x480 with 1 Axes>"
      ]
     },
     "metadata": {},
     "output_type": "display_data"
    },
    {
     "data": {
      "image/png": "[encoded data removed]",
      "text/plain": [
       "<Figure size 640x480 with 1 Axes>"
      ]
     },
     "metadata": {},
     "output_type": "display_data"
    }
   ],
   "source": [
    "test_loss, test_acc = model.evaluate(test_generator)\n",
    "print(f\"Test Accuracy: {test_acc}\")\n",
    "\n",
    "# Plot training & validation accuracy values\n",
    "plt.plot(history.history['accuracy'])\n",
    "plt.plot(history.history['val_accuracy'])\n",
    "plt.title('Model accuracy')\n",
    "plt.ylabel('Accuracy')\n",
    "plt.xlabel('Epoch')\n",
    "plt.legend(['Train', 'Validation'], loc='upper left')\n",
    "plt.show()\n",
    "\n",
    "# Plot training & validation loss values\n",
    "plt.plot(history.history['loss'])\n",
    "plt.plot(history.history['val_loss'])\n",
    "plt.title('Model loss')\n",
    "plt.ylabel('Loss')\n",
    "plt.xlabel('Epoch')\n",
    "plt.legend(['Train', 'Validation'], loc='upper left')\n",
    "plt.show()\n"
   ]
  },
  {
   "cell_type": "markdown",
   "id": "7162e90a",
   "metadata": {
    "papermill": {
     "duration": 0.013474,
     "end_time": "2024-10-24T15:39:01.623408",
     "exception": false,
     "start_time": "2024-10-24T15:39:01.609934",
     "status": "completed"
    },
    "tags": []
   },
   "source": [
    "# Confusion Martix"
   ]
  },
  {
   "cell_type": "code",
   "execution_count": 10,
   "id": "5eb626a0",
   "metadata": {
    "execution": {
     "iopub.execute_input": "2024-10-24T15:39:01.652018Z",
     "iopub.status.busy": "2024-10-24T15:39:01.651704Z",
     "iopub.status.idle": "2024-10-24T15:39:16.856583Z",
     "shell.execute_reply": "2024-10-24T15:39:16.855640Z"
    },
    "papermill": {
     "duration": 15.221376,
     "end_time": "2024-10-24T15:39:16.858454",
     "exception": false,
     "start_time": "2024-10-24T15:39:01.637078",
     "status": "completed"
    },
    "tags": []
   },
   "outputs": [
    {
     "name": "stdout",
     "output_type": "stream",
     "text": [
      "\u001b[1m29/29\u001b[0m \u001b[32m━━━━━━━━━━━━━━━━━━━━\u001b[0m\u001b[37m\u001b[0m \u001b[1m14s\u001b[0m 468ms/step\n",
      "Confusion Matrix:\n",
      "[[100   0   0   0   0   0   0   0   0]\n",
      " [  1  97   0   0   0   0   0   0   2]\n",
      " [  0   0  99   0   0   0   0   0   1]\n",
      " [  0   0   0 100   0   0   0   0   0]\n",
      " [  0   0   0   0 100   0   0   0   0]\n",
      " [  1   0   0   0   0  99   0   0   0]\n",
      " [  0   0   0   2   0   0  97   1   0]\n",
      " [  1   0   0   0   0   0   1  98   0]\n",
      " [  0   1   0   0   1   0   0   0  98]]\n"
     ]
    },
    {
     "data": {
      "image/png": "[encoded data removed]",
      "text/plain": [
       "<Figure size 1000x700 with 2 Axes>"
      ]
     },
     "metadata": {},
     "output_type": "display_data"
    }
   ],
   "source": [
    "import numpy as np\n",
    "import matplotlib.pyplot as plt\n",
    "from sklearn.metrics import confusion_matrix\n",
    "import seaborn as sns\n",
    "\n",
    "# Make predictions on the test or validation set\n",
    "# Assuming `test_generator` is your test dataset\n",
    "y_pred = model.predict(test_generator, steps=len(test_generator), verbose=1)\n",
    "\n",
    "# Convert the predicted probabilities to class labels\n",
    "y_pred_classes = np.argmax(y_pred, axis=1)\n",
    "\n",
    "# Get the true labels (ground truth)\n",
    "y_true = test_generator.classes\n",
    "\n",
    "# Generate the confusion matrix\n",
    "cm = confusion_matrix(y_true, y_pred_classes)\n",
    "\n",
    "# Print the confusion matrix\n",
    "print(\"Confusion Matrix:\")\n",
    "print(cm)\n",
    "\n",
    "# Plot the confusion matrix\n",
    "plt.figure(figsize=(10, 7))\n",
    "sns.heatmap(cm, annot=True, fmt='d', cmap='Blues', xticklabels=test_generator.class_indices.keys(), yticklabels=test_generator.class_indices.keys())\n",
    "plt.title('Confusion Matrix')\n",
    "plt.xlabel('Predicted')\n",
    "plt.ylabel('True')\n",
    "plt.show()\n"
   ]
  }
 ],
 "metadata": {
  "kaggle": {
   "accelerator": "nvidiaTeslaT4",
   "dataSources": [
    {
     "datasetId": 1165452,
     "sourceId": 2170465,
     "sourceType": "datasetVersion"
    }
   ],
   "dockerImageVersionId": 30786,
   "isGpuEnabled": true,
   "isInternetEnabled": true,
   "language": "python",
   "sourceType": "notebook"
  },
  "kernelspec": {
   "display_name": "Python 3",
   "language": "python",
   "name": "python3"
  },
  "language_info": {
   "codemirror_mode": {
    "name": "ipython",
    "version": 3
   },
   "file_extension": ".py",
   "mimetype": "text/x-python",
   "name": "python",
   "nbconvert_exporter": "python",
   "pygments_lexer": "ipython3",
   "version": "3.10.14"
  },
  "papermill": {
   "default_parameters": {},
   "duration": 2606.836031,
   "end_time": "2024-10-24T15:39:19.630125",
   "environment_variables": {},
   "exception": null,
   "input_path": "__notebook__.ipynb",
   "output_path": "__notebook__.ipynb",
   "parameters": {},
   "start_time": "2024-10-24T14:55:52.794094",
   "version": "2.6.0"
  }
 },
 "nbformat": 4,
 "nbformat_minor": 5
}
